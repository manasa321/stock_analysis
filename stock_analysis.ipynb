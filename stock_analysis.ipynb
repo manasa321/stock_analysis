{
 "cells": [
  {
   "cell_type": "code",
   "execution_count": null,
   "metadata": {},
   "outputs": [],
   "source": [
    "import pandas as pd\n",
    "import datetime\n",
    "import yfinance as yf\n",
    "\n",
    "df = pd.read_csv('StocksTraded.csv')\n",
    "print(df.head())\n",
    "print(df.shape)\n",
    "df.columns = df.columns.str.strip()\n",
    "symbols = df.Symbol\n",
    "df.set_index('Symbol', inplace=True)"
   ]
  },
  {
   "cell_type": "code",
   "execution_count": null,
   "metadata": {},
   "outputs": [],
   "source": [
    "print(df.loc['HDFCBANK']['LTP'])\n",
    "columns = ['Stock', '30_days_ago', 'today']\n",
    "filter_df = pd.DataFrame(columns=columns)"
   ]
  },
  {
   "cell_type": "code",
   "execution_count": null,
   "metadata": {},
   "outputs": [],
   "source": [
    "columns = ['Stock', '10 days ago', 'today']\n",
    "filter_df = pd.DataFrame(columns=columns)\n",
    "\n",
    "for symbol in symbols:\n",
    "\n",
    "    ticker = symbol+'.NS'\n",
    "    end_date = datetime.datetime.now().date()\n",
    "    start_date = end_date - datetime.timedelta(days=10)\n",
    "    today_price = df.loc[symbol]['LTP']\n",
    "\n",
    "    while True:\n",
    "            \n",
    "        # Fetch the historical data\n",
    "        data = yf.download(ticker, start=start_date, end=end_date + datetime.timedelta(days=1))\n",
    "\n",
    "        # Check if data is available for the start date\n",
    "        if str(start_date) in data.index:\n",
    "            value_10_days_ago = data.loc[str(start_date), 'Close']\n",
    "            print(f\"Stock value for {ticker}: {value_10_days_ago}\")\n",
    "            break\n",
    "        else:\n",
    "            start_date -= datetime.timedelta(days=1)\n",
    "\n",
    "        new_entry = pd.DataFrame({'Stock':[ticker], '10 days ago':[value_10_days_ago], 'today':[today_price]})\n",
    "        filter_df = pd.concat([filter_df, new_entry], ignore_index=True)\n"
   ]
  },
  {
   "cell_type": "code",
   "execution_count": null,
   "metadata": {},
   "outputs": [],
   "source": [
    "days_ago_list = [0, 2, 5, 10, 30, 60, 90, 180, 365]\n",
    "\n",
    "# Add new columns to df for each days_ago value\n",
    "for days_ago in days_ago_list:\n",
    "    df[f'{days_ago} Days Ago Price'] = 0.0\n",
    "\n",
    "# Iterate over each stock symbol\n",
    "for symbol in df.index:\n",
    "    ticker = symbol + '.NS'\n",
    "    end_date = datetime.datetime.now().date()\n",
    "    current_price = df.loc[symbol]['LTP']\n",
    "\n",
    "    # Fetch the historical data for the past year\n",
    "    data = yf.download(ticker, start=end_date - datetime.timedelta(days=365), end=end_date + datetime.timedelta(days=1))\n",
    "\n",
    "    # Loop through each days_ago value to find the price on that date\n",
    "    for days_ago in days_ago_list:\n",
    "        start_date = end_date - datetime.timedelta(days=days_ago)\n",
    "\n",
    "        # Initialize days_ago_price\n",
    "        days_ago_price = None\n",
    "\n",
    "        # Loop to find the closest available date to the start_date\n",
    "        while start_date >= (end_date - datetime.timedelta(days=365)):\n",
    "            # Convert start_date to datetime for comparison\n",
    "            if pd.Timestamp(start_date) in data.index:\n",
    "                days_ago_price = data.loc[pd.Timestamp(start_date), 'Close']\n",
    "                #print(f\"Stock value for {ticker} on {start_date}: {days_ago_price}\")\n",
    "                break\n",
    "            else:\n",
    "                start_date -= datetime.timedelta(days=1)\n",
    "\n",
    "        # If days_ago_price is not found, set a default value or handle accordingly\n",
    "        if days_ago_price is None:\n",
    "            #print(f\"No data found for {ticker} within the last 365 days\")\n",
    "            days_ago_price = 0.0  # or some other default value or handling\n",
    "\n",
    "        # Update the DataFrame with the days_ago price\n",
    "        df.at[symbol, f'{days_ago} Days Ago Price'] = days_ago_price\n"
   ]
  },
  {
   "cell_type": "code",
   "execution_count": null,
   "metadata": {},
   "outputs": [],
   "source": [
    "\n",
    "df.head()\n",
    "\n",
    "# Identify rows with any 0 values\n",
    "rows_with_zero = df.isin([0]).any(axis=1)\n",
    "\n",
    "# Print the indices of rows with 0 values\n",
    "print(\"Indices of rows with 0 values:\", df[rows_with_zero].index.tolist())\n",
    "\n",
    "# Drop rows with any 0 values\n",
    "df = df[~rows_with_zero]\n",
    "\n",
    "print(df.shape)\n",
    "df['LTP'] = df['0 Days Ago Price']"
   ]
  },
  {
   "cell_type": "code",
   "execution_count": null,
   "metadata": {},
   "outputs": [],
   "source": [
    "df['2_day_rise'] = -(df['2 Days Ago Price']-df['LTP'])*100/df['2 Days Ago Price']\n",
    "df['5_day_rise'] = -(df['5 Days Ago Price'] - df['LTP'])*100/df['5 Days Ago Price']\n",
    "df['1_month_rise'] = -(df['30 Days Ago Price'] - df['LTP'])*100/df['30 Days Ago Price']\n",
    "df['2_month_rise'] = -(df['60 Days Ago Price'] - df['LTP'])*100/df['60 Days Ago Price']\n",
    "df['3_month_rise'] = -(df['90 Days Ago Price']-df['LTP'])*100/df['90 Days Ago Price']\n",
    "df['6_month_rise'] = -(df['180 Days Ago Price']-df['LTP'])*100/df['180 Days Ago Price']\n",
    "df['1_year_rise']= -(df['365 Days Ago Price']-df['LTP'])*100/df['365 Days Ago Price']"
   ]
  },
  {
   "cell_type": "code",
   "execution_count": null,
   "metadata": {},
   "outputs": [],
   "source": []
  },
  {
   "cell_type": "code",
   "execution_count": null,
   "metadata": {},
   "outputs": [],
   "source": [
    "\n"
   ]
  },
  {
   "cell_type": "code",
   "execution_count": null,
   "metadata": {},
   "outputs": [],
   "source": [
    "df.shape"
   ]
  },
  {
   "cell_type": "code",
   "execution_count": null,
   "metadata": {},
   "outputs": [],
   "source": [
    "df.to_csv('stock_analysis.csv')"
   ]
  },
  {
   "cell_type": "code",
   "execution_count": null,
   "metadata": {},
   "outputs": [],
   "source": [
    "import pandas as pd\n",
    "df = pd.read_csv('stock_analysis.csv')"
   ]
  },
  {
   "cell_type": "code",
   "execution_count": null,
   "metadata": {},
   "outputs": [],
   "source": [
    "print(df.columns)"
   ]
  },
  {
   "cell_type": "code",
   "execution_count": null,
   "metadata": {},
   "outputs": [],
   "source": [
    "two_days_high_df = df.sort_values(by='2_day_rise', ascending=False)\n",
    "five_days_high_df = df.sort_values(by='5_day_rise', ascending=False)\n",
    "one_month_high_df = df.sort_values(by='1_month_rise', ascending=False)\n",
    "two_month_high_df = df.sort_values(by='2_month_rise', ascending=False)\n",
    "three_month_high_df = df.sort_values(by='3_month_rise', ascending=False)\n",
    "six_month_high_df = df.sort_values(by='6_month_rise', ascending=False)\n",
    "one_year_high_df = df.sort_values(by='1_year_rise', ascending=False)"
   ]
  },
  {
   "cell_type": "code",
   "execution_count": null,
   "metadata": {},
   "outputs": [],
   "source": [
    "two_days_high_df = two_days_high_df[two_days_high_df['Series'] == 'EQ']\n",
    "five_days_high_df = five_days_high_df[five_days_high_df['Series'] == 'EQ']\n",
    "one_month_high_df = one_month_high_df[one_month_high_df['Series']=='EQ']\n",
    "two_month_high_df = two_month_high_df[two_month_high_df['Series'] == 'EQ']\n",
    "three_month_high_df = three_month_high_df[three_month_high_df['Series']=='EQ']\n",
    "six_month_high_df = six_month_high_df[six_month_high_df['Series']=='EQ']\n",
    "one_year_high_df = one_year_high_df[one_year_high_df['Series']=='EQ']\n"
   ]
  },
  {
   "cell_type": "code",
   "execution_count": null,
   "metadata": {},
   "outputs": [],
   "source": [
    "one_month_two_day_equi = two_days_high_df[two_days_high_df['1_month_rise']>two_days_high_df['5_day_rise'] and df['5_day_rise']>0]"
   ]
  },
  {
   "cell_type": "code",
   "execution_count": null,
   "metadata": {},
   "outputs": [],
   "source": [
    "one_month_two_day_equi[0:10]"
   ]
  },
  {
   "cell_type": "code",
   "execution_count": null,
   "metadata": {},
   "outputs": [],
   "source": []
  }
 ],
 "metadata": {
  "kernelspec": {
   "display_name": "Python 3",
   "language": "python",
   "name": "python3"
  },
  "language_info": {
   "codemirror_mode": {
    "name": "ipython",
    "version": 3
   },
   "file_extension": ".py",
   "mimetype": "text/x-python",
   "name": "python",
   "nbconvert_exporter": "python",
   "pygments_lexer": "ipython3",
   "version": "3.12.0"
  }
 },
 "nbformat": 4,
 "nbformat_minor": 2
}
